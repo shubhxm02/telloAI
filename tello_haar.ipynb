{
 "cells": [
  {
   "cell_type": "code",
   "execution_count": 1,
   "metadata": {},
   "outputs": [],
   "source": [
    "import cv2\n",
    "import time\n",
    "import numpy as np\n",
    "import matplotlib.pyplot as plt\n",
    "# from imageai import Detection"
   ]
  },
  {
   "cell_type": "code",
   "execution_count": 2,
   "metadata": {},
   "outputs": [],
   "source": [
    "class FPS:\n",
    "    def __init__(self):\n",
    "        self.pTime = time.time()\n",
    "    def update(self, img=None, pos=(20, 50), color=(255, 0, 0), scale=3, thickness=3):\n",
    "        cTime = time.time()\n",
    "        try:\n",
    "            fps = 1 / (cTime - self.pTime)\n",
    "            self.pTime = cTime\n",
    "            if img is None:\n",
    "                return fps\n",
    "            else:\n",
    "                cv2.putText(img, f\"FPS: {int(fps)}\", pos, cv2.FONT_HERSHEY_PLAIN, scale, color, thickness)\n",
    "                return fps, img\n",
    "        except:\n",
    "            return 0"
   ]
  },
  {
   "cell_type": "code",
   "execution_count": 3,
   "metadata": {},
   "outputs": [],
   "source": [
    "cap = cv2.VideoCapture(0)\n",
    "_, image = cap.read()\n",
    "HEIGHT, WIDTH, _ = image.shape\n",
    "cap.release()"
   ]
  },
  {
   "cell_type": "code",
   "execution_count": 4,
   "metadata": {},
   "outputs": [],
   "source": [
    "classes = None\n",
    "with open('./yolo/coco.names', 'rt') as f:\n",
    "    classes = [line.strip() for line in f.readlines()]"
   ]
  },
  {
   "cell_type": "code",
   "execution_count": 5,
   "metadata": {},
   "outputs": [],
   "source": [
    "configPath = './yolo/yolov3-tiny.cfg'\n",
    "weightsPath = './yolo/yolov3-tiny.weights'"
   ]
  },
  {
   "cell_type": "code",
   "execution_count": 6,
   "metadata": {},
   "outputs": [],
   "source": [
    "net = cv2.dnn_DetectionModel(weightsPath, configPath)"
   ]
  },
  {
   "cell_type": "code",
   "execution_count": 9,
   "metadata": {},
   "outputs": [
    {
     "data": {
      "text/plain": [
       "<dnn_Model 00000183867E7530>"
      ]
     },
     "execution_count": 9,
     "metadata": {},
     "output_type": "execute_result"
    }
   ],
   "source": [
    "net.setInputSize(width=WIDTH//5, height=HEIGHT//5)\n",
    "net.setInputScale(1.0 / 127.5)\n",
    "net.setInputMean((127.5, 127.5, 127.5))\n",
    "net.setInputSwapRB(True)"
   ]
  },
  {
   "cell_type": "code",
   "execution_count": 10,
   "metadata": {},
   "outputs": [],
   "source": [
    "fps = FPS()\n",
    "cap = cv2.VideoCapture(0)\n",
    "\n",
    "while True:\n",
    "    try:\n",
    "        _,img = cap.read()\n",
    "        fps.update(img)\n",
    "        height, width, channels = img.shape\n",
    "\n",
    "        # Detecting objects\n",
    "        classIds, confs, bbox = net.detect(img, confThreshold = 0.5)\n",
    "        # print(classIds, bbox)\n",
    "\n",
    "        bbox = list(bbox)\n",
    "        confs = list(np.array(confs).reshape(1, -1)[0])\n",
    "        # confs = list(map(float, confs))\n",
    "\n",
    "        indices = cv2.dnn.NMSBoxes(bbox, confs, 0.5, 0.2)\n",
    "        # print(indices)\n",
    "\n",
    "        for i in indices:\n",
    "            box = bbox[i]\n",
    "            x, y, w, h = box[0], box[1], box[2], box[3]\n",
    "            cv2.rectangle(img, (x, y), (x + w, y + h), (255, 0, 0), 2)\n",
    "            cv2.putText(img, f'{classes[classIds[i]].upper()} {confs[i]}', box[:2], cv2.FONT_HERSHEY_PLAIN, 1.5, (0, 255, 0), 2)\n",
    "\n",
    "        # if len(classIds) > 0:\n",
    "        #     for classId, conf, box in zip(classIds.flatten(), confs.flatten(), bbox):\n",
    "        #         cv2.rectangle(img, box, color=(0, 255, 0), thickness=2)\n",
    "        #         cv2.putText(img, f'{classes[classId].upper()} {conf}', box[:2], cv2.FONT_HERSHEY_PLAIN, 1.5, (0, 255, 0), 2)\n",
    "\n",
    "        cv2.imshow(\"Image\", img)\n",
    "        key = cv2.waitKey(1)\n",
    "        if key == 27:\n",
    "            break\n",
    "    except Exception as e:\n",
    "        print(e)\n",
    "        break\n",
    "\n",
    "\n",
    "cap.release()\n",
    "cv2.destroyAllWindows()"
   ]
  },
  {
   "cell_type": "code",
   "execution_count": null,
   "metadata": {},
   "outputs": [],
   "source": []
  }
 ],
 "metadata": {
  "interpreter": {
   "hash": "8d30c6473a0766cc5fb559e8f04d5daab262e6ba8cc299e27c4b5d4beb8c81fa"
  },
  "kernelspec": {
   "display_name": "Python 3.9.6 64-bit ('venv': venv)",
   "language": "python",
   "name": "python3"
  },
  "language_info": {
   "codemirror_mode": {
    "name": "ipython",
    "version": 3
   },
   "file_extension": ".py",
   "mimetype": "text/x-python",
   "name": "python",
   "nbconvert_exporter": "python",
   "pygments_lexer": "ipython3",
   "version": "3.9.6"
  },
  "orig_nbformat": 4
 },
 "nbformat": 4,
 "nbformat_minor": 2
}
